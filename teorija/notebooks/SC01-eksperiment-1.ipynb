{
 "cells": [
  {
   "cell_type": "markdown",
   "metadata": {},
   "source": [
    "# Soft computing \n",
    "\n",
    " - uvod, \n",
    " - motivacija \n",
    " - eksperimenti\n",
    "\n"
   ]
  },
  {
   "cell_type": "markdown",
   "metadata": {},
   "source": [
    "## Eksperiment 1 - aproksimacija funkcije primenom VNM\n",
    "\n",
    "Napraviti sistem koji može da računa koren nekog broja, a da se koristi samo operacija stepenovanja."
   ]
  },
  {
   "cell_type": "markdown",
   "metadata": {
    "collapsed": false
   },
   "source": [
    "Obucavajuci skup:\n",
    "\n",
    "    - ulaz y**2 \n",
    "    - izlaz interval 1 - 5 korak::0.1\n",
    "    \n",
    " $x = y^2$\n",
    "\n",
    "\n",
    "    "
   ]
  },
  {
   "cell_type": "code",
   "execution_count": 1,
   "metadata": {
    "collapsed": false
   },
   "outputs": [],
   "source": [
    "import numpy as np\n",
    "\n",
    "y = np.arange(1, 5, 0.1)\n",
    "x = y**2"
   ]
  },
  {
   "cell_type": "markdown",
   "metadata": {},
   "source": [
    "Model neuronske mreže\n",
    "- 1 ulazni neuron sa relu funkcijom aktivacije\n",
    "- 40 neurona u sledecem sloju\n",
    "- 50 neurona u sledecem \n",
    "- 50 neuroan u sledecem\n",
    "- 1 neuron u izlaznom sloju"
   ]
  },
  {
   "cell_type": "code",
   "execution_count": 2,
   "metadata": {
    "collapsed": false
   },
   "outputs": [
    {
     "name": "stderr",
     "output_type": "stream",
     "text": [
      "Using Theano backend.\n"
     ]
    }
   ],
   "source": [
    "from keras.models import Sequential\n",
    "from keras.layers.core import Activation, Dense\n",
    "from keras.optimizers import SGD\n",
    "\n",
    "model = Sequential()\n",
    "model.add(Dense(40, input_dim=1))\n",
    "model.add(Activation('relu'))\n",
    "model.add(Dense(50))\n",
    "model.add(Activation('tanh'))\n",
    "model.add(Dense(50))\n",
    "model.add(Activation('tanh'))\n",
    "model.add(Dense(1))\n",
    "model.add(Activation('relu'))\n"
   ]
  },
  {
   "cell_type": "markdown",
   "metadata": {},
   "source": [
    "Metod za obucavanje\n",
    "- SGD stohastic gradient descent"
   ]
  },
  {
   "cell_type": "code",
   "execution_count": 3,
   "metadata": {
    "collapsed": true
   },
   "outputs": [],
   "source": [
    "sgd = SGD(lr=0.01, decay=0.0000001, momentum=0.7)\n",
    "model.compile(loss='mean_squared_error', optimizer=sgd)"
   ]
  },
  {
   "cell_type": "markdown",
   "metadata": {},
   "source": [
    "Obucavanje"
   ]
  },
  {
   "cell_type": "code",
   "execution_count": 4,
   "metadata": {
    "collapsed": false
   },
   "outputs": [
    {
     "name": "stdout",
     "output_type": "stream",
     "text": [
      "1.73660191649e-05\n"
     ]
    }
   ],
   "source": [
    "training = model.fit(x, y, nb_epoch=5000, \n",
    "                    batch_size=40, verbose=0)\n",
    "print training.history['loss'][-1]"
   ]
  },
  {
   "cell_type": "code",
   "execution_count": 5,
   "metadata": {
    "collapsed": false
   },
   "outputs": [
    {
     "name": "stdout",
     "output_type": "stream",
     "text": [
      "32/40 [=======================>......] - ETA: 0s\b\b\b\b\b\b\b\b\b\b\b\b\b\b\b\b\b\b\b\b\b\b\b\b\b\b\b\b\b\b\b\b\b\b\b\b\b\b\b\b\b\b\b\b\b\b\b\b40/40 [==============================] - 0s     \n"
     ]
    }
   ],
   "source": [
    "t = model.predict(x, verbose=1)"
   ]
  },
  {
   "cell_type": "code",
   "execution_count": 6,
   "metadata": {
    "collapsed": false
   },
   "outputs": [
    {
     "data": {
      "image/png": "[encoded data removed]",
      "text/plain": [
       "<matplotlib.figure.Figure at 0x7fa113a8f750>"
      ]
     },
     "metadata": {},
     "output_type": "display_data"
    }
   ],
   "source": [
    "import matplotlib.pyplot as plt\n",
    "%matplotlib inline\n",
    "\n",
    "plt.plot(x, y, color='g')\n",
    "plt.plot(x, t+0.1, color='b')\n",
    "plt.show()\n"
   ]
  },
  {
   "cell_type": "code",
   "execution_count": 7,
   "metadata": {
    "collapsed": false
   },
   "outputs": [
    {
     "name": "stdout",
     "output_type": "stream",
     "text": [
      "predikcija:\t2.03330302238\n",
      "tacna vrednost:\t2.03062305709\n",
      "error:\t\t0.00267996529108\n"
     ]
    }
   ],
   "source": [
    "xx = np.array([[4.12343]])\n",
    "ym = model.predict(xx)\n",
    "\n",
    "import math\n",
    "yt = math.sqrt(xx)\n",
    "\n",
    "print 'predikcija:\\t'+str(ym[0][0])\n",
    "print 'tacna vrednost:\\t'+str(yt)\n",
    "print 'error:\\t\\t'+str(ym[0][0]-yt)"
   ]
  },
  {
   "cell_type": "markdown",
   "metadata": {
    "collapsed": true
   },
   "source": [
    "## Experiment 2 - aproksimirati funkciju polinomom 2. stepena\n"
   ]
  },
  {
   "cell_type": "markdown",
   "metadata": {},
   "source": [
    "```\n",
    "| x    | y   |\n",
    "|------|------|\n",
    "|   a  | table|\n",
    "\n",
    "```"
   ]
  },
  {
   "cell_type": "code",
   "execution_count": 8,
   "metadata": {
    "collapsed": true
   },
   "outputs": [],
   "source": [
    "# br ventila   vreme[min]  pritisak[Bar]    protok[l] \n",
    "#   0           1              2              3 \n",
    "In = [\n",
    "  [8,5.03, 5.4, 64],\n",
    "  [8,11.35, 5.4, 145],\n",
    "  [8,10.28, 7.5, 155],\n",
    "  [8,10.03,10.7, 179],\n",
    "  [8,10.03,13.1, 195],\n",
    "  [8,10.02, 3.5, 99],\n",
    "  [16,11.35, 5.3, 280],\n",
    "  [16,10.02,10.3, 350]\n",
    "]"
   ]
  },
  {
   "cell_type": "markdown",
   "metadata": {},
   "source": [
    "Ako su merenja zavisnosti protoka vode u odnosu na broj ventila i pritisak data gornjom tabelom odrediti funkciju zavisnosti protoka od pritiska."
   ]
  },
  {
   "cell_type": "code",
   "execution_count": 9,
   "metadata": {
    "collapsed": true
   },
   "outputs": [],
   "source": [
    "In = np.array(In)\n",
    "(h,w) = In.shape\n",
    "Out = np.zeros((h, 2))"
   ]
  },
  {
   "cell_type": "markdown",
   "metadata": {},
   "source": [
    "Lista $Out$ predstavlja matricu zavisnosti protoka po jednom ventilu u jednoj sekundi"
   ]
  },
  {
   "cell_type": "code",
   "execution_count": 10,
   "metadata": {
    "collapsed": false
   },
   "outputs": [
    {
     "name": "stdout",
     "output_type": "stream",
     "text": [
      "[[  5.4          0.02650762]\n",
      " [  5.4          0.02661527]\n",
      " [  7.5          0.03141213]\n",
      " [ 10.7          0.03718013]\n",
      " [ 13.1          0.04050349]\n",
      " [  3.5          0.02058383]\n",
      " [  5.3          0.0256975 ]\n",
      " [ 10.3          0.03638556]]\n"
     ]
    }
   ],
   "source": [
    "Out[:,0] = In[:,2] # pritisak Bar\n",
    "Out[:,1] = In[:,3]/(In[:,0]*60*In[:,1]) # litara u sekundi po jednom ventilu\n",
    "print Out"
   ]
  },
  {
   "cell_type": "code",
   "execution_count": 11,
   "metadata": {
    "collapsed": false
   },
   "outputs": [
    {
     "data": {
      "image/png": "[encoded data removed]",
      "text/plain": [
       "<matplotlib.figure.Figure at 0x7fa11360a410>"
      ]
     },
     "metadata": {},
     "output_type": "display_data"
    }
   ],
   "source": [
    "plt.scatter(Out[:,0], Out[:,1], color='g', label='Merenja')\n",
    "plt.ylabel('protok [l/s]')\n",
    "plt.xlabel('pritisak [Bar]')\n",
    "plt.legend();"
   ]
  },
  {
   "cell_type": "code",
   "execution_count": 12,
   "metadata": {
    "collapsed": false
   },
   "outputs": [
    {
     "name": "stdout",
     "output_type": "stream",
     "text": [
      "[-0.00010674  0.00380448  0.00880618]\n"
     ]
    }
   ],
   "source": [
    "p = np.polyfit(Out[:,0], Out[:,1], 2)\n",
    "print p"
   ]
  },
  {
   "cell_type": "code",
   "execution_count": 14,
   "metadata": {
    "collapsed": true
   },
   "outputs": [],
   "source": [
    "t = np.arange(3,14,0.5)\n",
    "z = np.polyval(p, t)\n"
   ]
  },
  {
   "cell_type": "code",
   "execution_count": 15,
   "metadata": {
    "collapsed": false
   },
   "outputs": [
    {
     "data": {
      "image/png": "[encoded data removed]",
      "text/plain": [
       "<matplotlib.figure.Figure at 0x7fc79e8a7450>"
      ]
     },
     "metadata": {},
     "output_type": "display_data"
    }
   ],
   "source": [
    "plt.scatter(Out[:,0], Out[:,1], color='g', label='Merenja')\n",
    "plt.plot(t, z, c='#0000ff', label='aproksimacija')\n",
    "plt.ylabel('protok [l/s]')\n",
    "plt.xlabel('pritisak [Bar]')\n",
    "plt.legend();"
   ]
  },
  {
   "cell_type": "markdown",
   "metadata": {},
   "source": [
    "Kako odrediti kvalitet aproksimacije?"
   ]
  },
  {
   "cell_type": "code",
   "execution_count": 16,
   "metadata": {
    "collapsed": false
   },
   "outputs": [
    {
     "name": "stdout",
     "output_type": "stream",
     "text": [
      "[  7.28059831e-08   1.42488551e-07   5.85825844e-09   1.28144166e-08\n",
      "   3.11366993e-08   5.31040418e-08   7.51069076e-08   7.98612230e-08]\n"
     ]
    }
   ],
   "source": [
    "z_aproximacija = np.polyval(p, Out[:,0])\n",
    "z_tacno = Out[:,1]\n",
    "err = (z_aproximacija-z_tacno)**2\n",
    "\n",
    "print err"
   ]
  },
  {
   "cell_type": "markdown",
   "metadata": {},
   "source": [
    "Srednja kvadratna greška i varijansa greške"
   ]
  },
  {
   "cell_type": "code",
   "execution_count": 17,
   "metadata": {
    "collapsed": false
   },
   "outputs": [
    {
     "name": "stdout",
     "output_type": "stream",
     "text": [
      "5.91470100833e-08\n"
     ]
    }
   ],
   "source": [
    "print err.mean()"
   ]
  },
  {
   "cell_type": "code",
   "execution_count": 18,
   "metadata": {
    "collapsed": false
   },
   "outputs": [
    {
     "name": "stdout",
     "output_type": "stream",
     "text": [
      "4.12669240351e-08\n"
     ]
    }
   ],
   "source": [
    "print err.std()"
   ]
  },
  {
   "cell_type": "code",
   "execution_count": null,
   "metadata": {
    "collapsed": true
   },
   "outputs": [],
   "source": []
  }
 ],
 "metadata": {
  "kernelspec": {
   "display_name": "Python 2",
   "language": "python",
   "name": "python2"
  },
  "language_info": {
   "codemirror_mode": {
    "name": "ipython",
    "version": 2
   },
   "file_extension": ".py",
   "mimetype": "text/x-python",
   "name": "python",
   "nbconvert_exporter": "python",
   "pygments_lexer": "ipython2",
   "version": "2.7.6"
  }
 },
 "nbformat": 4,
 "nbformat_minor": 0
}
